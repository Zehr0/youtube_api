{
 "cells": [
  {
   "cell_type": "markdown",
   "id": "a3bc1ff1-cf55-4b6e-9927-5ada1033191c",
   "metadata": {},
   "source": [
    "# Fetching Data using Youtube Api"
   ]
  },
  {
   "cell_type": "markdown",
   "id": "8837b968-8325-4358-bdec-d72f148df7ab",
   "metadata": {},
   "source": [
    "## Create a Project on Google Cloud"
   ]
  },
  {
   "cell_type": "markdown",
   "id": "03907ccd-1417-415c-92bb-6ce1b93084d6",
   "metadata": {},
   "source": [
    "#### Cloud Credential\n",
    "\n",
    "    1. Go to console.cloud.google.com\n",
    "    2. Create a project\n",
    "    3. Under APIs and services create credentials and copy the API Key\n",
    "    4. Under API Library, enable Youtube Data API v3"
   ]
  },
  {
   "cell_type": "code",
   "execution_count": 1,
   "id": "9eb64585-28e6-450f-94a5-b7564c492128",
   "metadata": {},
   "outputs": [],
   "source": [
    "api_key = 'your_api_key'"
   ]
  },
  {
   "cell_type": "markdown",
   "id": "017a579d-f2bf-4f02-9eae-1f09207fd0ed",
   "metadata": {},
   "source": [
    "### Install Google APIs Client Library"
   ]
  },
  {
   "cell_type": "code",
   "execution_count": 2,
   "id": "35ada9ef-390b-4632-88c3-f7f68347e0ff",
   "metadata": {},
   "outputs": [],
   "source": [
    "# pip3 install --upgrade google-api-python-client"
   ]
  },
  {
   "cell_type": "markdown",
   "id": "325ef9a2-33b9-4892-b743-30ebef7d3988",
   "metadata": {},
   "source": [
    "### Get the channel id you want to fetch statistics"
   ]
  },
  {
   "cell_type": "code",
   "execution_count": 3,
   "id": "7198924a-77e4-4e37-b7a8-5c4d89439a0d",
   "metadata": {},
   "outputs": [],
   "source": [
    "channel_ids = ['UCX6OQ3DkcsbYNE6H8uQQuVA', #MrBeast\n",
    "               'UC7cs8q-gJRlGwj4A8OmCmXg', # Alex the analyst\n",
    "               # more channels here\n",
    "              ]"
   ]
  },
  {
   "cell_type": "markdown",
   "id": "10979ca0-1dc7-4cd8-9aee-2001febd9ac8",
   "metadata": {},
   "source": [
    "### Import Libraries"
   ]
  },
  {
   "cell_type": "code",
   "execution_count": 4,
   "id": "0f6822db-b7d6-4f6f-92b9-7d3be17f3b89",
   "metadata": {},
   "outputs": [],
   "source": [
    "from googleapiclient.discovery import build\n",
    "import pandas as pd\n",
    "from IPython.display import JSON"
   ]
  },
  {
   "cell_type": "code",
   "execution_count": 5,
   "id": "ab20f210-96ae-4d4a-9c76-eca0cfd9eb37",
   "metadata": {},
   "outputs": [],
   "source": [
    "api_service_name = \"youtube\"\n",
    "api_version = \"v3\"\n",
    "\n",
    "# Get credentials and create an API client\n",
    "youtube = build(\n",
    "    api_service_name, api_version, developerKey=api_key)"
   ]
  },
  {
   "cell_type": "markdown",
   "id": "bcfc27da-25cd-4124-aeb2-f839daa4aadf",
   "metadata": {},
   "source": [
    "### Defining Functions"
   ]
  },
  {
   "cell_type": "code",
   "execution_count": 6,
   "id": "4cdbb575-d1ed-41c5-9864-e543894cd463",
   "metadata": {},
   "outputs": [],
   "source": [
    "def get_channel_stats(youtube, channel_ids):\n",
    "    \"\"\"\n",
    "    Get channel statistics: title, subscriber count, view count, video count, upload playlist\n",
    "    Params:\n",
    "    \n",
    "    youtube: the build object from googleapiclient.discovery\n",
    "    channels_ids: list of channel IDs\n",
    "    \n",
    "    Returns:\n",
    "    Dataframe containing the channel statistics for all channels in the provided list: title, subscriber count, view count, video count, upload playlist\n",
    "    \n",
    "    \"\"\"\n",
    "    all_data = []\n",
    "    request = youtube.channels().list(\n",
    "                part='snippet,contentDetails,statistics',\n",
    "                id=','.join(channel_ids))\n",
    "    response = request.execute() \n",
    "    \n",
    "    for i in range(len(response['items'])):\n",
    "        data = dict(channelName = response['items'][i]['snippet']['title'],\n",
    "                    subscribers = response['items'][i]['statistics']['subscriberCount'],\n",
    "                    views = response['items'][i]['statistics']['viewCount'],\n",
    "                    totalVideos = response['items'][i]['statistics']['videoCount'],\n",
    "                    playlistId = response['items'][i]['contentDetails']['relatedPlaylists']['uploads'])\n",
    "        all_data.append(data)\n",
    "    \n",
    "    return pd.DataFrame(all_data)"
   ]
  },
  {
   "cell_type": "code",
   "execution_count": 7,
   "metadata": {},
   "outputs": [],
   "source": [
    "\n",
    "def get_video_ids(youtube, playlist_id):\n",
    "    \"\"\"\n",
    "    Get list of video IDs of all videos in the given playlist\n",
    "    Params:\n",
    "    \n",
    "    youtube: the build object from googleapiclient.discovery\n",
    "    playlist_id: playlist ID of the channel\n",
    "    \n",
    "    Returns:\n",
    "    List of video IDs of all videos in the playlist\n",
    "    \n",
    "    \"\"\"\n",
    "    \n",
    "    request = youtube.playlistItems().list(\n",
    "                part='contentDetails',\n",
    "                playlistId = playlist_id,\n",
    "                maxResults = 50)\n",
    "    response = request.execute()\n",
    "    \n",
    "    video_ids = []\n",
    "    \n",
    "    for i in range(len(response['items'])):\n",
    "        video_ids.append(response['items'][i]['contentDetails']['videoId'])\n",
    "        \n",
    "    next_page_token = response.get('nextPageToken')\n",
    "    more_pages = True\n",
    "    \n",
    "    while more_pages:\n",
    "        if next_page_token is None:\n",
    "            more_pages = False\n",
    "        else:\n",
    "            request = youtube.playlistItems().list(\n",
    "                        part='contentDetails',\n",
    "                        playlistId = playlist_id,\n",
    "                        maxResults = 50,\n",
    "                        pageToken = next_page_token)\n",
    "            response = request.execute()\n",
    "    \n",
    "            for i in range(len(response['items'])):\n",
    "                video_ids.append(response['items'][i]['contentDetails']['videoId'])\n",
    "            \n",
    "            next_page_token = response.get('nextPageToken')\n",
    "        \n",
    "    return video_ids"
   ]
  },
  {
   "cell_type": "code",
   "execution_count": 8,
   "metadata": {},
   "outputs": [],
   "source": [
    "def get_video_details(youtube, video_ids):\n",
    "    \"\"\"\n",
    "    Get video statistics of all videos with given IDs\n",
    "    Params:\n",
    "    \n",
    "    youtube: the build object from googleapiclient.discovery\n",
    "    video_ids: list of video IDs\n",
    "    \n",
    "    Returns:\n",
    "    Dataframe with statistics of videos, i.e.:\n",
    "        'channelTitle', 'title', 'description', 'tags', 'publishedAt'\n",
    "        'viewCount', 'likeCount', 'favoriteCount', 'commentCount'\n",
    "        'duration', 'definition', 'caption'\n",
    "    \"\"\"\n",
    "        \n",
    "    all_video_info = []\n",
    "    \n",
    "    for i in range(0, len(video_ids), 50):\n",
    "        request = youtube.videos().list(\n",
    "            part=\"snippet,contentDetails,statistics\",\n",
    "            id=','.join(video_ids[i:i+50])\n",
    "        )\n",
    "        response = request.execute() \n",
    "\n",
    "        for video in response['items']:\n",
    "            stats_to_keep = {'snippet': ['channelTitle', 'title', 'description', 'tags', 'publishedAt'],\n",
    "                             'statistics': ['viewCount', 'likeCount', 'favouriteCount', 'commentCount'],\n",
    "                             'contentDetails': ['duration', 'definition', 'caption']\n",
    "                            }\n",
    "            video_info = {}\n",
    "            video_info['video_id'] = video['id']\n",
    "\n",
    "            for k in stats_to_keep.keys():\n",
    "                for v in stats_to_keep[k]:\n",
    "                    try:\n",
    "                        video_info[v] = video[k][v]\n",
    "                    except:\n",
    "                        video_info[v] = None\n",
    "\n",
    "            all_video_info.append(video_info)\n",
    "            \n",
    "    return pd.DataFrame(all_video_info)"
   ]
  },
  {
   "cell_type": "code",
   "execution_count": 25,
   "metadata": {},
   "outputs": [],
   "source": [
    "\n",
    "def get_comments_in_videos(youtube, video_ids):\n",
    "    \"\"\"\n",
    "    Get top level comments as text from all videos with given IDs (only the first 5 comments due to quote limit of Youtube API)\n",
    "    Params:\n",
    "    \n",
    "    youtube: the build object from googleapiclient.discovery\n",
    "    video_ids: list of video IDs\n",
    "    \n",
    "    Returns:\n",
    "    Dataframe with video IDs and associated top level comment in text.\n",
    "    \n",
    "    \"\"\"\n",
    "    all_comments = []\n",
    "    \n",
    "    for video_id in video_ids:\n",
    "        try:   \n",
    "            request = youtube.commentThreads().list(\n",
    "                part=\"snippet,replies\",\n",
    "                videoId=video_id\n",
    "            )\n",
    "            response = request.execute()\n",
    "        \n",
    "            comments_in_video = [comment['snippet']['topLevelComment']['snippet']['textOriginal'] for comment in response['items'][0:5]]\n",
    "            comments_in_video_info = {'video_id': video_id, 'comments': comments_in_video}\n",
    "\n",
    "            all_comments.append(comments_in_video_info)\n",
    "            \n",
    "        except: \n",
    "            # When error occurs - most likely because comments are disabled on a video\n",
    "            print('Could not get comments for video ' + video_id)\n",
    "        \n",
    "    return pd.DataFrame(all_comments)"
   ]
  },
  {
   "cell_type": "code",
   "execution_count": 10,
   "id": "b1265404-d79d-4bac-a836-24c2ec9bd6b7",
   "metadata": {},
   "outputs": [
    {
     "data": {
      "text/html": [
       "<div>\n",
       "<style scoped>\n",
       "    .dataframe tbody tr th:only-of-type {\n",
       "        vertical-align: middle;\n",
       "    }\n",
       "\n",
       "    .dataframe tbody tr th {\n",
       "        vertical-align: top;\n",
       "    }\n",
       "\n",
       "    .dataframe thead th {\n",
       "        text-align: right;\n",
       "    }\n",
       "</style>\n",
       "<table border=\"1\" class=\"dataframe\">\n",
       "  <thead>\n",
       "    <tr style=\"text-align: right;\">\n",
       "      <th></th>\n",
       "      <th>channelName</th>\n",
       "      <th>subscribers</th>\n",
       "      <th>views</th>\n",
       "      <th>totalVideos</th>\n",
       "      <th>playlistId</th>\n",
       "    </tr>\n",
       "  </thead>\n",
       "  <tbody>\n",
       "    <tr>\n",
       "      <th>0</th>\n",
       "      <td>Alex The Analyst</td>\n",
       "      <td>642000</td>\n",
       "      <td>27225050</td>\n",
       "      <td>266</td>\n",
       "      <td>UU7cs8q-gJRlGwj4A8OmCmXg</td>\n",
       "    </tr>\n",
       "    <tr>\n",
       "      <th>1</th>\n",
       "      <td>MrBeast</td>\n",
       "      <td>217000000</td>\n",
       "      <td>38492249747</td>\n",
       "      <td>771</td>\n",
       "      <td>UUX6OQ3DkcsbYNE6H8uQQuVA</td>\n",
       "    </tr>\n",
       "  </tbody>\n",
       "</table>\n",
       "</div>"
      ],
      "text/plain": [
       "        channelName subscribers        views totalVideos  \\\n",
       "0  Alex The Analyst      642000     27225050         266   \n",
       "1           MrBeast   217000000  38492249747         771   \n",
       "\n",
       "                 playlistId  \n",
       "0  UU7cs8q-gJRlGwj4A8OmCmXg  \n",
       "1  UUX6OQ3DkcsbYNE6H8uQQuVA  "
      ]
     },
     "execution_count": 10,
     "metadata": {},
     "output_type": "execute_result"
    }
   ],
   "source": [
    "all_channel_stats = get_channel_stats(youtube, channel_ids)\n",
    "all_channel_stats"
   ]
  },
  {
   "cell_type": "code",
   "execution_count": 11,
   "id": "93bed920-c6df-4ffe-a8f5-62ca19d284f2",
   "metadata": {},
   "outputs": [
    {
     "data": {
      "text/plain": [
       "['rWBOITBjitE', 'tnTPaLOaHz8', 'Wdjh81uH6FU', '7dYTw-jAYkY', 'AjZDwxt7S8w']"
      ]
     },
     "execution_count": 11,
     "metadata": {},
     "output_type": "execute_result"
    }
   ],
   "source": [
    "mrBeast_video_ids = get_video_ids(youtube, all_channel_stats.playlistId[1])\n",
    "mrBeast_video_ids[0:5] # first 5 video_ids"
   ]
  },
  {
   "cell_type": "code",
   "execution_count": 21,
   "metadata": {},
   "outputs": [
    {
     "data": {
      "text/plain": [
       "771"
      ]
     },
     "execution_count": 21,
     "metadata": {},
     "output_type": "execute_result"
    }
   ],
   "source": [
    "len(mrBeast_video_ids)"
   ]
  },
  {
   "cell_type": "code",
   "execution_count": 14,
   "id": "867389b1",
   "metadata": {},
   "outputs": [
    {
     "data": {
      "text/html": [
       "<div>\n",
       "<style scoped>\n",
       "    .dataframe tbody tr th:only-of-type {\n",
       "        vertical-align: middle;\n",
       "    }\n",
       "\n",
       "    .dataframe tbody tr th {\n",
       "        vertical-align: top;\n",
       "    }\n",
       "\n",
       "    .dataframe thead th {\n",
       "        text-align: right;\n",
       "    }\n",
       "</style>\n",
       "<table border=\"1\" class=\"dataframe\">\n",
       "  <thead>\n",
       "    <tr style=\"text-align: right;\">\n",
       "      <th></th>\n",
       "      <th>video_id</th>\n",
       "      <th>channelTitle</th>\n",
       "      <th>title</th>\n",
       "      <th>description</th>\n",
       "      <th>tags</th>\n",
       "      <th>publishedAt</th>\n",
       "      <th>viewCount</th>\n",
       "      <th>likeCount</th>\n",
       "      <th>favouriteCount</th>\n",
       "      <th>commentCount</th>\n",
       "      <th>duration</th>\n",
       "      <th>definition</th>\n",
       "      <th>caption</th>\n",
       "    </tr>\n",
       "  </thead>\n",
       "  <tbody>\n",
       "    <tr>\n",
       "      <th>0</th>\n",
       "      <td>rWBOITBjitE</td>\n",
       "      <td>MrBeast</td>\n",
       "      <td>Could You Walk Up A Skyscraper?</td>\n",
       "      <td></td>\n",
       "      <td>None</td>\n",
       "      <td>2023-12-05T18:00:00Z</td>\n",
       "      <td>27492401</td>\n",
       "      <td>2167926</td>\n",
       "      <td>None</td>\n",
       "      <td>8883</td>\n",
       "      <td>PT50S</td>\n",
       "      <td>hd</td>\n",
       "      <td>false</td>\n",
       "    </tr>\n",
       "    <tr>\n",
       "      <th>1</th>\n",
       "      <td>tnTPaLOaHz8</td>\n",
       "      <td>MrBeast</td>\n",
       "      <td>$10,000 Every Day You Survive In A Grocery Store</td>\n",
       "      <td>I didn’t expect him to stay that long \\nShop K...</td>\n",
       "      <td>None</td>\n",
       "      <td>2023-12-02T17:00:00Z</td>\n",
       "      <td>106733691</td>\n",
       "      <td>3975174</td>\n",
       "      <td>None</td>\n",
       "      <td>61208</td>\n",
       "      <td>PT21M32S</td>\n",
       "      <td>hd</td>\n",
       "      <td>true</td>\n",
       "    </tr>\n",
       "    <tr>\n",
       "      <th>2</th>\n",
       "      <td>Wdjh81uH6FU</td>\n",
       "      <td>MrBeast</td>\n",
       "      <td>$1 vs $10,000,000 Job!</td>\n",
       "      <td>I can’t believe they actually hired me lol\\nTr...</td>\n",
       "      <td>None</td>\n",
       "      <td>2023-11-25T17:00:00Z</td>\n",
       "      <td>102719593</td>\n",
       "      <td>3584723</td>\n",
       "      <td>None</td>\n",
       "      <td>61559</td>\n",
       "      <td>PT15M39S</td>\n",
       "      <td>hd</td>\n",
       "      <td>true</td>\n",
       "    </tr>\n",
       "    <tr>\n",
       "      <th>3</th>\n",
       "      <td>7dYTw-jAYkY</td>\n",
       "      <td>MrBeast</td>\n",
       "      <td>I Spent 7 Days Buried Alive</td>\n",
       "      <td>Please don't try this at home lol\\nVerizon 5G ...</td>\n",
       "      <td>None</td>\n",
       "      <td>2023-11-18T17:00:01Z</td>\n",
       "      <td>107671323</td>\n",
       "      <td>5318503</td>\n",
       "      <td>None</td>\n",
       "      <td>106501</td>\n",
       "      <td>PT18M40S</td>\n",
       "      <td>hd</td>\n",
       "      <td>true</td>\n",
       "    </tr>\n",
       "    <tr>\n",
       "      <th>4</th>\n",
       "      <td>AjZDwxt7S8w</td>\n",
       "      <td>MrBeast</td>\n",
       "      <td>I Gave Away A House On Halloween</td>\n",
       "      <td></td>\n",
       "      <td>None</td>\n",
       "      <td>2023-11-10T18:00:00Z</td>\n",
       "      <td>101839809</td>\n",
       "      <td>5750589</td>\n",
       "      <td>None</td>\n",
       "      <td>17313</td>\n",
       "      <td>PT48S</td>\n",
       "      <td>hd</td>\n",
       "      <td>false</td>\n",
       "    </tr>\n",
       "  </tbody>\n",
       "</table>\n",
       "</div>"
      ],
      "text/plain": [
       "      video_id channelTitle                                             title  \\\n",
       "0  rWBOITBjitE      MrBeast                   Could You Walk Up A Skyscraper?   \n",
       "1  tnTPaLOaHz8      MrBeast  $10,000 Every Day You Survive In A Grocery Store   \n",
       "2  Wdjh81uH6FU      MrBeast                            $1 vs $10,000,000 Job!   \n",
       "3  7dYTw-jAYkY      MrBeast                       I Spent 7 Days Buried Alive   \n",
       "4  AjZDwxt7S8w      MrBeast                  I Gave Away A House On Halloween   \n",
       "\n",
       "                                         description  tags  \\\n",
       "0                                                     None   \n",
       "1  I didn’t expect him to stay that long \\nShop K...  None   \n",
       "2  I can’t believe they actually hired me lol\\nTr...  None   \n",
       "3  Please don't try this at home lol\\nVerizon 5G ...  None   \n",
       "4                                                     None   \n",
       "\n",
       "            publishedAt  viewCount likeCount favouriteCount commentCount  \\\n",
       "0  2023-12-05T18:00:00Z   27492401   2167926           None         8883   \n",
       "1  2023-12-02T17:00:00Z  106733691   3975174           None        61208   \n",
       "2  2023-11-25T17:00:00Z  102719593   3584723           None        61559   \n",
       "3  2023-11-18T17:00:01Z  107671323   5318503           None       106501   \n",
       "4  2023-11-10T18:00:00Z  101839809   5750589           None        17313   \n",
       "\n",
       "   duration definition caption  \n",
       "0     PT50S         hd   false  \n",
       "1  PT21M32S         hd    true  \n",
       "2  PT15M39S         hd    true  \n",
       "3  PT18M40S         hd    true  \n",
       "4     PT48S         hd   false  "
      ]
     },
     "execution_count": 14,
     "metadata": {},
     "output_type": "execute_result"
    }
   ],
   "source": [
    "video_df = get_video_details(youtube,mrBeast_video_ids)\n",
    "video_df.head(5)"
   ]
  },
  {
   "cell_type": "code",
   "execution_count": 26,
   "metadata": {},
   "outputs": [
    {
     "data": {
      "text/html": [
       "<div>\n",
       "<style scoped>\n",
       "    .dataframe tbody tr th:only-of-type {\n",
       "        vertical-align: middle;\n",
       "    }\n",
       "\n",
       "    .dataframe tbody tr th {\n",
       "        vertical-align: top;\n",
       "    }\n",
       "\n",
       "    .dataframe thead th {\n",
       "        text-align: right;\n",
       "    }\n",
       "</style>\n",
       "<table border=\"1\" class=\"dataframe\">\n",
       "  <thead>\n",
       "    <tr style=\"text-align: right;\">\n",
       "      <th></th>\n",
       "      <th>video_id</th>\n",
       "      <th>comments</th>\n",
       "    </tr>\n",
       "  </thead>\n",
       "  <tbody>\n",
       "    <tr>\n",
       "      <th>0</th>\n",
       "      <td>rWBOITBjitE</td>\n",
       "      <td>[🎉🎉🎉🎉🎉, VOLTA DUIO BOTTA, Оператор:😢, Woóooooo...</td>\n",
       "    </tr>\n",
       "    <tr>\n",
       "      <th>1</th>\n",
       "      <td>tnTPaLOaHz8</td>\n",
       "      <td>[make sure to buy feastables at your local gro...</td>\n",
       "    </tr>\n",
       "    <tr>\n",
       "      <th>2</th>\n",
       "      <td>Wdjh81uH6FU</td>\n",
       "      <td>[The final job is the craziest thing I’ve ever...</td>\n",
       "    </tr>\n",
       "    <tr>\n",
       "      <th>3</th>\n",
       "      <td>7dYTw-jAYkY</td>\n",
       "      <td>[I’ve now been buried for 50 hours and 7 days....</td>\n",
       "    </tr>\n",
       "    <tr>\n",
       "      <th>4</th>\n",
       "      <td>AjZDwxt7S8w</td>\n",
       "      <td>[You are so much better 💕, Mr B\\n Eats, Te qui...</td>\n",
       "    </tr>\n",
       "    <tr>\n",
       "      <th>5</th>\n",
       "      <td>aZnqqXaT02g</td>\n",
       "      <td>[Jimmy  is  👌 👍 😍, Happy Halloween 🎃, ❤❤❤❤❤, N...</td>\n",
       "    </tr>\n",
       "    <tr>\n",
       "      <th>6</th>\n",
       "      <td>mwKJfNYwvm8</td>\n",
       "      <td>[Visit https://www.beastphilanthropy.org/campa...</td>\n",
       "    </tr>\n",
       "    <tr>\n",
       "      <th>7</th>\n",
       "      <td>l9_8_pDTmis</td>\n",
       "      <td>[Gastaron más de lo que ganaron ..:, 🇹🇷🇹🇷🇹🇷🇹🇷🇹...</td>\n",
       "    </tr>\n",
       "    <tr>\n",
       "      <th>8</th>\n",
       "      <td>n7x4Jj9pdH8</td>\n",
       "      <td>[Jimmy you are besttttt❤❤❤❤😊😊😊😊😊, Advita🎉😊I  e...</td>\n",
       "    </tr>\n",
       "    <tr>\n",
       "      <th>9</th>\n",
       "      <td>QjvpjXdgugA</td>\n",
       "      <td>[Before anyone asks, I blew them up when they ...</td>\n",
       "    </tr>\n",
       "  </tbody>\n",
       "</table>\n",
       "</div>"
      ],
      "text/plain": [
       "      video_id                                           comments\n",
       "0  rWBOITBjitE  [🎉🎉🎉🎉🎉, VOLTA DUIO BOTTA, Оператор:😢, Woóooooo...\n",
       "1  tnTPaLOaHz8  [make sure to buy feastables at your local gro...\n",
       "2  Wdjh81uH6FU  [The final job is the craziest thing I’ve ever...\n",
       "3  7dYTw-jAYkY  [I’ve now been buried for 50 hours and 7 days....\n",
       "4  AjZDwxt7S8w  [You are so much better 💕, Mr B\\n Eats, Te qui...\n",
       "5  aZnqqXaT02g  [Jimmy  is  👌 👍 😍, Happy Halloween 🎃, ❤❤❤❤❤, N...\n",
       "6  mwKJfNYwvm8  [Visit https://www.beastphilanthropy.org/campa...\n",
       "7  l9_8_pDTmis  [Gastaron más de lo que ganaron ..:, 🇹🇷🇹🇷🇹🇷🇹🇷🇹...\n",
       "8  n7x4Jj9pdH8  [Jimmy you are besttttt❤❤❤❤😊😊😊😊😊, Advita🎉😊I  e...\n",
       "9  QjvpjXdgugA  [Before anyone asks, I blew them up when they ..."
      ]
     },
     "execution_count": 26,
     "metadata": {},
     "output_type": "execute_result"
    }
   ],
   "source": [
    "comments_df = get_comments_in_videos(youtube,mrBeast_video_ids[0:10])\n",
    "comments_df"
   ]
  },
  {
   "cell_type": "code",
   "execution_count": 16,
   "id": "94813b10",
   "metadata": {},
   "outputs": [
    {
     "data": {
      "text/plain": [
       "(771, 13)"
      ]
     },
     "execution_count": 16,
     "metadata": {},
     "output_type": "execute_result"
    }
   ],
   "source": [
    "video_df.shape"
   ]
  },
  {
   "cell_type": "code",
   "execution_count": 23,
   "metadata": {},
   "outputs": [
    {
     "data": {
      "text/plain": [
       "(10, 2)"
      ]
     },
     "execution_count": 23,
     "metadata": {},
     "output_type": "execute_result"
    }
   ],
   "source": [
    "comments_df.shape"
   ]
  },
  {
   "cell_type": "markdown",
   "id": "a3f66f38-1d8f-48b8-bbc3-fd72677c6d43",
   "metadata": {},
   "source": [
    "### Export the data into csv"
   ]
  },
  {
   "cell_type": "code",
   "execution_count": 27,
   "id": "3c70e42a",
   "metadata": {},
   "outputs": [],
   "source": [
    "video_df.to_csv(\"mrbeast_videos.csv\")"
   ]
  },
  {
   "cell_type": "code",
   "execution_count": 28,
   "id": "74deb026",
   "metadata": {},
   "outputs": [],
   "source": [
    "comments_df.to_csv(\"mrbeast_top_comments.csv\")"
   ]
  }
 ],
 "metadata": {
  "kernelspec": {
   "display_name": "Python 3 (ipykernel)",
   "language": "python",
   "name": "python3"
  },
  "language_info": {
   "codemirror_mode": {
    "name": "ipython",
    "version": 3
   },
   "file_extension": ".py",
   "mimetype": "text/x-python",
   "name": "python",
   "nbconvert_exporter": "python",
   "pygments_lexer": "ipython3",
   "version": "3.12.0"
  }
 },
 "nbformat": 4,
 "nbformat_minor": 5
}
